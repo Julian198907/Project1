{
 "cells": [
  {
   "cell_type": "markdown",
   "id": "f3aeb7de",
   "metadata": {},
   "source": [
    "# Wide Receiver CFB Data "
   ]
  },
  {
   "cell_type": "code",
   "execution_count": 2,
   "id": "69a181c3",
   "metadata": {},
   "outputs": [],
   "source": [
    "import pandas as pd"
   ]
  },
  {
   "cell_type": "code",
   "execution_count": 4,
   "id": "40b0360f",
   "metadata": {},
   "outputs": [],
   "source": [
    "url = 'https://www.ncaa.com/stats/football/fbs/current/individual/455'\n",
    "url1 = 'https://www.ncaa.com/stats/football/fbs/current/individual/455/p2'\n",
    "url2 = 'https://www.ncaa.com/stats/football/fbs/current/individual/455/p3'\n",
    "url3 = 'https://www.ncaa.com/stats/football/fbs/current/individual/455/p4'"
   ]
  },
  {
   "cell_type": "code",
   "execution_count": 5,
   "id": "8dcddad7",
   "metadata": {},
   "outputs": [],
   "source": [
    "rawdef = pd.read_html(url) + pd.read_html(url1) + pd.read_html(url2) + pd.read_html(url3)"
   ]
  },
  {
   "cell_type": "code",
   "execution_count": 6,
   "id": "f0316063",
   "metadata": {},
   "outputs": [],
   "source": [
    "len(rawdef)\n",
    "x = pd.concat([rawdef[0], rawdef[1], rawdef[2], rawdef[3]])"
   ]
  },
  {
   "cell_type": "code",
   "execution_count": 7,
   "id": "4c77f440",
   "metadata": {},
   "outputs": [],
   "source": [
    "x['Rank'] = (x['Rec'] + x['Rec TD'] + x['Rec Yds']) / x['G']"
   ]
  },
  {
   "cell_type": "code",
   "execution_count": 10,
   "id": "cc7a3c37",
   "metadata": {},
   "outputs": [],
   "source": [
    "#x['Rank'] = round(x['Rank'])\n",
    "Cleanup1 = x"
   ]
  },
  {
   "cell_type": "code",
   "execution_count": 11,
   "id": "13f832eb",
   "metadata": {},
   "outputs": [],
   "source": [
    "Cleanup1.loc[(Cleanup1.Team == 'Virginia') | (Cleanup1.Team =='Syracuse') | (Cleanup1.Team =='Georgia Tech') | (Cleanup1.Team =='Duke') | (Cleanup1.Team == 'Florida St.') | (Cleanup1.Team == 'Virginia Tech') | (Cleanup1.Team == 'Clemson') | (Cleanup1.Team == 'Louisville') | (Cleanup1.Team == 'Pittsburg') | (Cleanup1.Team == 'Wake Forest') | (Cleanup1.Team == 'Boston College') | (Cleanup1.Team == 'North Carolina') | (Cleanup1.Team == 'Miami (FL)')  | (Cleanup1.Team == 'NC State') | (Cleanup1.Team == 'Pittsburgh'), 'Conference'] = 'ACC'\n",
    "Cleanup1.loc[(Cleanup1.Team == 'Iowa St.') | (Cleanup1.Team =='Kansas') | (Cleanup1.Team =='Oklahoma St.') | (Cleanup1.Team =='West Virginia') | (Cleanup1.Team == 'Texas Tech') | (Cleanup1.Team == 'Kansas St.') | (Cleanup1.Team == 'Texas') | (Cleanup1.Team == 'Baylor') | (Cleanup1.Team == 'TCU') | (Cleanup1.Team == 'Oklahoma'), 'Conference'] = 'BIG 12'\n",
    "Cleanup1.loc[(Cleanup1.Team == 'Northwestern') | (Cleanup1.Team =='Wisconsin') | (Cleanup1.Team =='Iowa') | (Cleanup1.Team =='Nebraska') | (Cleanup1.Team == 'Purdue') | (Cleanup1.Team == 'Penn St.') | (Cleanup1.Team == 'Michigan St.') | (Cleanup1.Team == 'Minnesota') | (Cleanup1.Team == 'Illinois') | (Cleanup1.Team == 'Rutgers') | (Cleanup1.Team == 'Indiana') | (Cleanup1.Team == 'Maryland') | (Cleanup1.Team == 'Michigan') | (Cleanup1.Team == 'Ohio St.'),  'Conference'] = 'BIG10'\n",
    "Cleanup1.loc[(Cleanup1.Team == 'Memphis') | (Cleanup1.Team =='UCF') | (Cleanup1.Team =='Cincinnati') | (Cleanup1.Team =='Tulsa') | (Cleanup1.Team == 'SMU') | (Cleanup1.Team == 'Tulane') | (Cleanup1.Team == 'Houston') | (Cleanup1.Team == 'Temple') | (Cleanup1.Team == 'South Fla.') | (Cleanup1.Team == 'Navy') | (Cleanup1.Team == 'East Carolina') ,  'Conference'] = 'AA'\n",
    "Cleanup1.loc[(Cleanup1.Team == 'San Jose St.') | (Cleanup1.Team =='Wyoming') | (Cleanup1.Team =='UNLV') | (Cleanup1.Team =='Utah St.') | (Cleanup1.Team == 'Nevada') | (Cleanup1.Team == 'Colorado St.') | (Cleanup1.Team == 'Hawaii') | (Cleanup1.Team == 'New Mexico') | (Cleanup1.Team == 'Fresno St.') | (Cleanup1.Team == 'San Diego St.') | (Cleanup1.Team == 'Boise St.') | (Cleanup1.Team == 'Air Force'),  'Conference'] = 'MountainWest'\n",
    "Cleanup1.loc[(Cleanup1.Team == 'Oregon St.') | (Cleanup1.Team =='Washington St.') | (Cleanup1.Team =='Stanford') | (Cleanup1.Team =='Utah') | (Cleanup1.Team == 'California') | (Cleanup1.Team == 'Arizona') | (Cleanup1.Team == 'Arizona St.') | (Cleanup1.Team == 'Washington') | (Cleanup1.Team == 'Colorado') | (Cleanup1.Team == 'Oregon') | (Cleanup1.Team == 'UCLA') | (Cleanup1.Team == 'Southern California'),  'Conference'] = 'Pac12'\n",
    "Cleanup1.loc[(Cleanup1.Team == 'Troy') | (Cleanup1.Team =='App State') | (Cleanup1.Team =='Coastal Carolina') | (Cleanup1.Team =='Arkansas St.') | (Cleanup1.Team == 'Georgia St.') | (Cleanup1.Team == 'Texas St.') | (Cleanup1.Team == 'Ga. Southern') | (Cleanup1.Team == 'Louisiana') | (Cleanup1.Team == 'South Alabama') | (Cleanup1.Team == 'ULM'),  'Conference'] = 'SunBelt'\n",
    "Cleanup1.loc[(Cleanup1.Team == 'Bowling Green') | (Cleanup1.Team =='Miami (OH)') | (Cleanup1.Team =='Buffalo') | (Cleanup1.Team =='Ohio') | (Cleanup1.Team == 'Ball St.') | (Cleanup1.Team == 'Kent St.') | (Cleanup1.Team == 'Toledo') | (Cleanup1.Team == 'Akron') | (Cleanup1.Team == 'Eastern Mich.') | (Cleanup1.Team == 'Central Mich.') | (Cleanup1.Team == 'Western Mich.') | (Cleanup1.Team == 'Northern Ill.'),  'Conference'] = 'Mid-American'\n",
    "Cleanup1.loc[(Cleanup1.Team == 'North Texas') | (Cleanup1.Team =='Middle Tenn.') | (Cleanup1.Team =='Marshall') | (Cleanup1.Team =='UTEP') | (Cleanup1.Team == 'Old Dominion') | (Cleanup1.Team == 'UAB') | (Cleanup1.Team == 'Western Ky.') | (Cleanup1.Team == 'Charlotte') | (Cleanup1.Team == 'Fla. Atlantic') | (Cleanup1.Team == 'Rice') | (Cleanup1.Team == 'FIU') | (Cleanup1.Team == 'UTSA') | (Cleanup1.Team == 'Southern Miss.')  | (Cleanup1.Team == 'Louisiana Tech'), 'Conference'] = 'ConfUSA'\n"
   ]
  },
  {
   "cell_type": "code",
   "execution_count": 12,
   "id": "693f3622",
   "metadata": {},
   "outputs": [],
   "source": [
    "Cleanup1.loc[(Cleanup1.Team == 'UConn') | (Cleanup1.Team =='Army West Point') | (Cleanup1.Team =='Massachusetts') | (Cleanup1.Team =='New Mexico St.') | (Cleanup1.Team == 'Liberty') | (Cleanup1.Team == 'BYU') | (Cleanup1.Team == 'Notre Dame'), 'Conference'] = 'Independent'"
   ]
  },
  {
   "cell_type": "code",
   "execution_count": 15,
   "id": "5707dbf7",
   "metadata": {},
   "outputs": [
    {
     "data": {
      "text/plain": [
       "array([], dtype=object)"
      ]
     },
     "execution_count": 15,
     "metadata": {},
     "output_type": "execute_result"
    }
   ],
   "source": [
    "f= Cleanup1[Cleanup1.Conference.isna()]\n",
    "f.Team.unique()"
   ]
  },
  {
   "cell_type": "code",
   "execution_count": 14,
   "id": "64eb60c5",
   "metadata": {},
   "outputs": [],
   "source": [
    "Cleanup1.loc[(Cleanup1.Team == 'Alabama') | (Cleanup1.Team =='Kentucky') | (Cleanup1.Team =='Arkansas') | (Cleanup1.Team =='Tennessee') | (Cleanup1.Team == 'Mississippi St.') | (Cleanup1.Team == 'Ole Miss') | (Cleanup1.Team == 'Georgia') | (Cleanup1.Team == 'South Carolina') | (Cleanup1.Team == 'Vanderbilt') | (Cleanup1.Team == 'Florida') | (Cleanup1.Team == 'Auburn') | (Cleanup1.Team == 'Missouri'), 'Conference'] = 'SEC'"
   ]
  },
  {
   "cell_type": "code",
   "execution_count": 18,
   "id": "31eb15e4",
   "metadata": {},
   "outputs": [],
   "source": [
    "w = pd.read_excel(\"PlayerWeight.xlsx\")"
   ]
  },
  {
   "cell_type": "code",
   "execution_count": 23,
   "id": "9d9671cd",
   "metadata": {},
   "outputs": [
    {
     "data": {
      "text/plain": [
       "array(['SEC', 'Big Ten', 'Big 12', 'ACC', 'MWC', 'Pac-12', 'American',\n",
       "       'SUNBELT', 'Ind', 'CUSA', 'MAC'], dtype=object)"
      ]
     },
     "execution_count": 23,
     "metadata": {},
     "output_type": "execute_result"
    }
   ],
   "source": [
    "w.Conference.unique()"
   ]
  },
  {
   "cell_type": "code",
   "execution_count": 22,
   "id": "03e7fa8c",
   "metadata": {},
   "outputs": [
    {
     "data": {
      "text/plain": [
       "array(['CUSA', 'MWC', 'Big Ten', 'ACC', 'SEC', 'SUNBELT', 'MAC',\n",
       "       'American', 'Pac-12', 'Big 12', 'Ind'], dtype=object)"
      ]
     },
     "execution_count": 22,
     "metadata": {},
     "output_type": "execute_result"
    }
   ],
   "source": [
    "Cleanup1.Conference.unique()"
   ]
  },
  {
   "cell_type": "code",
   "execution_count": 21,
   "id": "5059d06a",
   "metadata": {},
   "outputs": [],
   "source": [
    "Cleanup1.Conference = Cleanup1.Conference.str.replace('ConfUSA', 'CUSA').str.replace('SunBelt', 'SUNBELT').str.replace('Mid-American', 'MAC').str.replace('BIG10', 'Big Ten').str.replace('MountainWest', 'MWC').str.replace('AA', 'American').str.replace('Independent', 'Ind').str.replace('Pac12', 'Pac-12').str.replace('BIG 12', 'Big 12')"
   ]
  },
  {
   "cell_type": "code",
   "execution_count": 25,
   "id": "41c03915",
   "metadata": {},
   "outputs": [],
   "source": [
    "wr = pd.merge(Cleanup1, w, on = 'Conference', how = 'outer')"
   ]
  },
  {
   "cell_type": "code",
   "execution_count": 27,
   "id": "9cd58dcf",
   "metadata": {},
   "outputs": [],
   "source": [
    "wr['Rating'] = wr['Rank'] * wr['Ratio']"
   ]
  },
  {
   "cell_type": "code",
   "execution_count": 39,
   "id": "cf4de38d",
   "metadata": {},
   "outputs": [],
   "source": [
    "#wr.sort_values(['Rating'], ascending=False)\n",
    "wr.set_index('Name', inplace=True)"
   ]
  },
  {
   "cell_type": "code",
   "execution_count": 43,
   "id": "bca59456",
   "metadata": {},
   "outputs": [
    {
     "data": {
      "text/html": [
       "<div>\n",
       "<style scoped>\n",
       "    .dataframe tbody tr th:only-of-type {\n",
       "        vertical-align: middle;\n",
       "    }\n",
       "\n",
       "    .dataframe tbody tr th {\n",
       "        vertical-align: top;\n",
       "    }\n",
       "\n",
       "    .dataframe thead th {\n",
       "        text-align: right;\n",
       "    }\n",
       "</style>\n",
       "<table border=\"1\" class=\"dataframe\">\n",
       "  <thead>\n",
       "    <tr style=\"text-align: right;\">\n",
       "      <th></th>\n",
       "      <th>Position</th>\n",
       "      <th>Team</th>\n",
       "      <th>Cl</th>\n",
       "      <th>Rating</th>\n",
       "    </tr>\n",
       "    <tr>\n",
       "      <th>Name</th>\n",
       "      <th></th>\n",
       "      <th></th>\n",
       "      <th></th>\n",
       "      <th></th>\n",
       "    </tr>\n",
       "  </thead>\n",
       "  <tbody>\n",
       "    <tr>\n",
       "      <th>Wan'Dale Robinson</th>\n",
       "      <td>WR</td>\n",
       "      <td>Kentucky</td>\n",
       "      <td>Jr.</td>\n",
       "      <td>24.42</td>\n",
       "    </tr>\n",
       "    <tr>\n",
       "      <th>Jameson Williams</th>\n",
       "      <td>WR</td>\n",
       "      <td>Alabama</td>\n",
       "      <td>Jr.</td>\n",
       "      <td>24.42</td>\n",
       "    </tr>\n",
       "    <tr>\n",
       "      <th>Jaxon Smith-Njigba</th>\n",
       "      <td>WR</td>\n",
       "      <td>Ohio St.</td>\n",
       "      <td>So.</td>\n",
       "      <td>22.44</td>\n",
       "    </tr>\n",
       "    <tr>\n",
       "      <th>Treylon Burks</th>\n",
       "      <td>WR</td>\n",
       "      <td>Arkansas</td>\n",
       "      <td>Jr.</td>\n",
       "      <td>21.56</td>\n",
       "    </tr>\n",
       "    <tr>\n",
       "      <th>David Bell</th>\n",
       "      <td>WR</td>\n",
       "      <td>Purdue</td>\n",
       "      <td>Jr.</td>\n",
       "      <td>21.42</td>\n",
       "    </tr>\n",
       "    <tr>\n",
       "      <th>John Metchie</th>\n",
       "      <td>WR</td>\n",
       "      <td>Alabama</td>\n",
       "      <td>Jr.</td>\n",
       "      <td>21.12</td>\n",
       "    </tr>\n",
       "    <tr>\n",
       "      <th>Dontario Drummond</th>\n",
       "      <td>WR</td>\n",
       "      <td>Ole Miss</td>\n",
       "      <td>Sr.</td>\n",
       "      <td>20.46</td>\n",
       "    </tr>\n",
       "    <tr>\n",
       "      <th>Cedric Tillman</th>\n",
       "      <td>WR</td>\n",
       "      <td>Tennessee</td>\n",
       "      <td>Jr.</td>\n",
       "      <td>19.58</td>\n",
       "    </tr>\n",
       "    <tr>\n",
       "      <th>Makai Polk</th>\n",
       "      <td>WR</td>\n",
       "      <td>Mississippi St.</td>\n",
       "      <td>Jr.</td>\n",
       "      <td>19.58</td>\n",
       "    </tr>\n",
       "    <tr>\n",
       "      <th>Jahan Dotson</th>\n",
       "      <td>WR</td>\n",
       "      <td>Penn St.</td>\n",
       "      <td>Sr.</td>\n",
       "      <td>18.19</td>\n",
       "    </tr>\n",
       "    <tr>\n",
       "      <th>Garrett Wilson</th>\n",
       "      <td>WR</td>\n",
       "      <td>Ohio St.</td>\n",
       "      <td>Jr.</td>\n",
       "      <td>17.68</td>\n",
       "    </tr>\n",
       "    <tr>\n",
       "      <th>Velus Jones Jr.</th>\n",
       "      <td>WR</td>\n",
       "      <td>Tennessee</td>\n",
       "      <td>Sr.</td>\n",
       "      <td>14.74</td>\n",
       "    </tr>\n",
       "    <tr>\n",
       "      <th>Deven Thompkins</th>\n",
       "      <td>WR</td>\n",
       "      <td>Utah St.</td>\n",
       "      <td>Sr.</td>\n",
       "      <td>14.30</td>\n",
       "    </tr>\n",
       "    <tr>\n",
       "      <th>Jayden Reed</th>\n",
       "      <td>WR</td>\n",
       "      <td>Michigan St.</td>\n",
       "      <td>Jr.</td>\n",
       "      <td>14.28</td>\n",
       "    </tr>\n",
       "    <tr>\n",
       "      <th>Chris Olave</th>\n",
       "      <td>WR</td>\n",
       "      <td>Ohio St.</td>\n",
       "      <td>Sr.</td>\n",
       "      <td>14.28</td>\n",
       "    </tr>\n",
       "  </tbody>\n",
       "</table>\n",
       "</div>"
      ],
      "text/plain": [
       "                   Position             Team   Cl  Rating\n",
       "Name                                                     \n",
       "Wan'Dale Robinson        WR         Kentucky  Jr.   24.42\n",
       "Jameson Williams         WR          Alabama  Jr.   24.42\n",
       "Jaxon Smith-Njigba       WR         Ohio St.  So.   22.44\n",
       "Treylon Burks            WR         Arkansas  Jr.   21.56\n",
       "David Bell               WR           Purdue  Jr.   21.42\n",
       "John Metchie             WR          Alabama  Jr.   21.12\n",
       "Dontario Drummond        WR         Ole Miss  Sr.   20.46\n",
       "Cedric Tillman           WR        Tennessee  Jr.   19.58\n",
       "Makai Polk               WR  Mississippi St.  Jr.   19.58\n",
       "Jahan Dotson             WR         Penn St.  Sr.   18.19\n",
       "Garrett Wilson           WR         Ohio St.  Jr.   17.68\n",
       "Velus Jones Jr.          WR        Tennessee  Sr.   14.74\n",
       "Deven Thompkins          WR         Utah St.  Sr.   14.30\n",
       "Jayden Reed              WR     Michigan St.  Jr.   14.28\n",
       "Chris Olave              WR         Ohio St.  Sr.   14.28"
      ]
     },
     "execution_count": 43,
     "metadata": {},
     "output_type": "execute_result"
    }
   ],
   "source": [
    "wr[['Position', 'Team', 'Cl', 'Rating']].sort_values(['Rating'], ascending=False).head(15)"
   ]
  },
  {
   "cell_type": "code",
   "execution_count": 42,
   "id": "6ed728cc",
   "metadata": {},
   "outputs": [],
   "source": [
    "wr.to_excel('21WR.xlsx', sheet_name = '2021WR')"
   ]
  },
  {
   "cell_type": "code",
   "execution_count": null,
   "id": "4d425c07",
   "metadata": {},
   "outputs": [],
   "source": []
  }
 ],
 "metadata": {
  "kernelspec": {
   "display_name": "Python 3 (ipykernel)",
   "language": "python",
   "name": "python3"
  },
  "language_info": {
   "codemirror_mode": {
    "name": "ipython",
    "version": 3
   },
   "file_extension": ".py",
   "mimetype": "text/x-python",
   "name": "python",
   "nbconvert_exporter": "python",
   "pygments_lexer": "ipython3",
   "version": "3.9.7"
  }
 },
 "nbformat": 4,
 "nbformat_minor": 5
}
