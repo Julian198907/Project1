{
 "cells": [
  {
   "cell_type": "markdown",
   "id": "c5d9f9e2",
   "metadata": {},
   "source": [
    "<h1 style=\"font-size:3rem; color:blue;\">Jupyter Notebook Practice</h1>"
   ]
  },
  {
   "cell_type": "markdown",
   "id": "b9bab168",
   "metadata": {},
   "source": [
    "# Python for Beginners"
   ]
  },
  {
   "cell_type": "markdown",
   "id": "f7d3a210",
   "metadata": {},
   "source": [
    "<img src = \"https://occ-0-2794-2219.1.nflxso.net/dnm/api/v6/E8vDc_W8CLv7-yMQu8KMEC7Rrr8/AAAABTk14Gug0poyJJmAkppVAWTv4PrFT5PcLpHmKB3BJMeE0ROgXpmLWaoAlXRUTVmHhy5DFVfCXfvL0xvyKxe_bjsboDRa.jpg?r=1c1\">"
   ]
  },
  {
   "cell_type": "markdown",
   "id": "24e344f4",
   "metadata": {},
   "source": [
    "Basic Output"
   ]
  },
  {
   "cell_type": "code",
   "execution_count": 1,
   "id": "3c0ba8c7",
   "metadata": {},
   "outputs": [
    {
     "name": "stdout",
     "output_type": "stream",
     "text": [
      "Hello World\n"
     ]
    }
   ],
   "source": [
    "print(\"Hello World\")"
   ]
  },
  {
   "cell_type": "markdown",
   "id": "b6c67972",
   "metadata": {},
   "source": [
    "Basic Variable"
   ]
  },
  {
   "cell_type": "code",
   "execution_count": 4,
   "id": "78e1a9da",
   "metadata": {},
   "outputs": [
    {
     "name": "stdout",
     "output_type": "stream",
     "text": [
      "What is your Name?Julian\n",
      "Hello, Julian!\n"
     ]
    }
   ],
   "source": [
    "person = input(\"What is your Name?\")\n",
    "message = \"Hello, {}!\".format(person)\n",
    "print(message)"
   ]
  },
  {
   "cell_type": "markdown",
   "id": "46097a1f",
   "metadata": {},
   "source": [
    "Multistring and string length"
   ]
  },
  {
   "cell_type": "code",
   "execution_count": 8,
   "id": "6bc2294a",
   "metadata": {},
   "outputs": [
    {
     "name": "stdout",
     "output_type": "stream",
     "text": [
      "Once upon a time\n",
      "King Arthur went out to find\n",
      "his round table\n",
      "61\n"
     ]
    }
   ],
   "source": [
    "Story = \"\"\"Once upon a time\n",
    "King Arthur went out to find\n",
    "his round table\"\"\"\n",
    "print(Story)\n",
    "print(len(Story))"
   ]
  },
  {
   "cell_type": "markdown",
   "id": "984836da",
   "metadata": {},
   "source": [
    "List(or Arrays in other language)"
   ]
  },
  {
   "cell_type": "code",
   "execution_count": null,
   "id": "3b5c64fe",
   "metadata": {},
   "outputs": [],
   "source": []
  }
 ],
 "metadata": {
  "kernelspec": {
   "display_name": "Python 3 (ipykernel)",
   "language": "python",
   "name": "python3"
  },
  "language_info": {
   "codemirror_mode": {
    "name": "ipython",
    "version": 3
   },
   "file_extension": ".py",
   "mimetype": "text/x-python",
   "name": "python",
   "nbconvert_exporter": "python",
   "pygments_lexer": "ipython3",
   "version": "3.9.7"
  }
 },
 "nbformat": 4,
 "nbformat_minor": 5
}
