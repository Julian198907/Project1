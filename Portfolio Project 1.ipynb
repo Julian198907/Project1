{
 "cells": [
  {
   "cell_type": "markdown",
   "id": "8970f7fe",
   "metadata": {},
   "source": [
    "# Final Player Ranking"
   ]
  },
  {
   "cell_type": "code",
   "execution_count": 1,
   "id": "f4d5cf48",
   "metadata": {},
   "outputs": [],
   "source": [
    "import pandas as pd"
   ]
  },
  {
   "cell_type": "code",
   "execution_count": 2,
   "id": "b1f027ea",
   "metadata": {},
   "outputs": [],
   "source": [
    "raw = pd.read_excel('Clean.xlsx')"
   ]
  },
  {
   "cell_type": "code",
   "execution_count": 4,
   "id": "89ab04ef",
   "metadata": {},
   "outputs": [],
   "source": [
    "rank = pd.read_excel('PlayerWeight.xlsx')"
   ]
  },
  {
   "cell_type": "code",
   "execution_count": 15,
   "id": "b05b3b60",
   "metadata": {},
   "outputs": [
    {
     "data": {
      "text/plain": [
       "array(['ConfUSA', 'SunBelt', 'SEC', 'Mid-American', 'BIG10', 'ACC',\n",
       "       'MountainWest', 'AA', 'BIG 12', 'Independent', 'Pac12'],\n",
       "      dtype=object)"
      ]
     },
     "execution_count": 15,
     "metadata": {},
     "output_type": "execute_result"
    }
   ],
   "source": [
    "raw.Conference.unique()"
   ]
  },
  {
   "cell_type": "code",
   "execution_count": 58,
   "id": "8e8191e7",
   "metadata": {},
   "outputs": [],
   "source": [
    "raw.Conference = raw.Conference.str.replace('ConfUSA', 'CUSA').str.replace('SunBelt', 'SUNBELT').str.replace('Mid-American', 'MAC').str.replace('BIG10', 'Big Ten').str.replace('MountainWest', 'MWC').str.replace('AA', 'American').str.replace('Independent', 'Ind').str.replace('Pac12', 'Pac-12').str.replace('BIG 12', 'Big 12')"
   ]
  },
  {
   "cell_type": "code",
   "execution_count": 31,
   "id": "49f4f327",
   "metadata": {},
   "outputs": [],
   "source": [
    "rank.rename(columns = {'Conf1': 'Conference'}, inplace=True)"
   ]
  },
  {
   "cell_type": "code",
   "execution_count": 60,
   "id": "43b08267",
   "metadata": {},
   "outputs": [],
   "source": [
    "x = pd.merge(raw, rank, on='Conference', how = 'outer')"
   ]
  },
  {
   "cell_type": "code",
   "execution_count": 63,
   "id": "d5106bfd",
   "metadata": {},
   "outputs": [
    {
     "data": {
      "text/html": [
       "<div>\n",
       "<style scoped>\n",
       "    .dataframe tbody tr th:only-of-type {\n",
       "        vertical-align: middle;\n",
       "    }\n",
       "\n",
       "    .dataframe tbody tr th {\n",
       "        vertical-align: top;\n",
       "    }\n",
       "\n",
       "    .dataframe thead th {\n",
       "        text-align: right;\n",
       "    }\n",
       "</style>\n",
       "<table border=\"1\" class=\"dataframe\">\n",
       "  <thead>\n",
       "    <tr style=\"text-align: right;\">\n",
       "      <th></th>\n",
       "      <th>Name</th>\n",
       "      <th>Position</th>\n",
       "      <th>Cl</th>\n",
       "      <th>Team</th>\n",
       "      <th>Conference</th>\n",
       "      <th>Gen Rank</th>\n",
       "      <th>Ratio</th>\n",
       "    </tr>\n",
       "  </thead>\n",
       "  <tbody>\n",
       "  </tbody>\n",
       "</table>\n",
       "</div>"
      ],
      "text/plain": [
       "Empty DataFrame\n",
       "Columns: [Name, Position, Cl, Team, Conference, Gen Rank, Ratio]\n",
       "Index: []"
      ]
     },
     "execution_count": 63,
     "metadata": {},
     "output_type": "execute_result"
    }
   ],
   "source": [
    "x.loc[x['Ratio'].isna()]"
   ]
  },
  {
   "cell_type": "code",
   "execution_count": 64,
   "id": "2c8a2363",
   "metadata": {},
   "outputs": [],
   "source": [
    "x['Rating'] = x['Gen Rank'] * x['Ratio']"
   ]
  },
  {
   "cell_type": "code",
   "execution_count": 71,
   "id": "1f1fefe8",
   "metadata": {},
   "outputs": [],
   "source": [
    "sort = x.sort_values(['Rating'], ascending=False)"
   ]
  },
  {
   "cell_type": "code",
   "execution_count": 93,
   "id": "ddb26ac1",
   "metadata": {},
   "outputs": [
    {
     "data": {
      "text/html": [
       "<div>\n",
       "<style scoped>\n",
       "    .dataframe tbody tr th:only-of-type {\n",
       "        vertical-align: middle;\n",
       "    }\n",
       "\n",
       "    .dataframe tbody tr th {\n",
       "        vertical-align: top;\n",
       "    }\n",
       "\n",
       "    .dataframe thead th {\n",
       "        text-align: right;\n",
       "    }\n",
       "</style>\n",
       "<table border=\"1\" class=\"dataframe\">\n",
       "  <thead>\n",
       "    <tr style=\"text-align: right;\">\n",
       "      <th></th>\n",
       "      <th>Name</th>\n",
       "      <th>Position</th>\n",
       "      <th>Cl</th>\n",
       "      <th>Team</th>\n",
       "      <th>Conference</th>\n",
       "      <th>Gen Rank</th>\n",
       "      <th>Ratio</th>\n",
       "      <th>Rating</th>\n",
       "    </tr>\n",
       "  </thead>\n",
       "  <tbody>\n",
       "    <tr>\n",
       "      <th>129</th>\n",
       "      <td>Damone Clark</td>\n",
       "      <td>LB</td>\n",
       "      <td>Sr.</td>\n",
       "      <td>LSU</td>\n",
       "      <td>SEC</td>\n",
       "      <td>140.0</td>\n",
       "      <td>0.22</td>\n",
       "      <td>30.91</td>\n",
       "    </tr>\n",
       "    <tr>\n",
       "      <th>148</th>\n",
       "      <td>Jeremy Banks</td>\n",
       "      <td>LB</td>\n",
       "      <td>Jr.</td>\n",
       "      <td>Tennessee</td>\n",
       "      <td>SEC</td>\n",
       "      <td>134.0</td>\n",
       "      <td>0.22</td>\n",
       "      <td>29.37</td>\n",
       "    </tr>\n",
       "    <tr>\n",
       "      <th>117</th>\n",
       "      <td>Bumper Pool</td>\n",
       "      <td>LB</td>\n",
       "      <td>Sr.</td>\n",
       "      <td>Arkansas</td>\n",
       "      <td>SEC</td>\n",
       "      <td>125.0</td>\n",
       "      <td>0.22</td>\n",
       "      <td>27.50</td>\n",
       "    </tr>\n",
       "    <tr>\n",
       "      <th>123</th>\n",
       "      <td>Chance Campbell</td>\n",
       "      <td>LB</td>\n",
       "      <td>Sr.</td>\n",
       "      <td>Ole Miss</td>\n",
       "      <td>SEC</td>\n",
       "      <td>121.0</td>\n",
       "      <td>0.22</td>\n",
       "      <td>26.62</td>\n",
       "    </tr>\n",
       "    <tr>\n",
       "      <th>178</th>\n",
       "      <td>Will Anderson Jr.</td>\n",
       "      <td>LB</td>\n",
       "      <td>So.</td>\n",
       "      <td>Alabama</td>\n",
       "      <td>SEC</td>\n",
       "      <td>120.0</td>\n",
       "      <td>0.22</td>\n",
       "      <td>26.29</td>\n",
       "    </tr>\n",
       "  </tbody>\n",
       "</table>\n",
       "</div>"
      ],
      "text/plain": [
       "                  Name Position   Cl       Team Conference  Gen Rank  Ratio  \\\n",
       "129       Damone Clark       LB  Sr.        LSU        SEC     140.0   0.22   \n",
       "148       Jeremy Banks       LB  Jr.  Tennessee        SEC     134.0   0.22   \n",
       "117        Bumper Pool       LB  Sr.   Arkansas        SEC     125.0   0.22   \n",
       "123    Chance Campbell       LB  Sr.   Ole Miss        SEC     121.0   0.22   \n",
       "178  Will Anderson Jr.       LB  So.    Alabama        SEC     120.0   0.22   \n",
       "\n",
       "     Rating  \n",
       "129   30.91  \n",
       "148   29.37  \n",
       "117   27.50  \n",
       "123   26.62  \n",
       "178   26.29  "
      ]
     },
     "execution_count": 93,
     "metadata": {},
     "output_type": "execute_result"
    }
   ],
   "source": [
    "sort['Rating'] = round(sort['Rating'], 3)\n",
    "sort['Gen Rank'] = round(sort['Gen Rank'])\n",
    "sort.head()"
   ]
  },
  {
   "cell_type": "code",
   "execution_count": 117,
   "id": "1dc50980",
   "metadata": {},
   "outputs": [],
   "source": [
    "final = sort\n",
    "final.set_index('Name', inplace=True)"
   ]
  },
  {
   "cell_type": "code",
   "execution_count": 131,
   "id": "8f2869c9",
   "metadata": {},
   "outputs": [
    {
     "data": {
      "text/html": [
       "<div>\n",
       "<style scoped>\n",
       "    .dataframe tbody tr th:only-of-type {\n",
       "        vertical-align: middle;\n",
       "    }\n",
       "\n",
       "    .dataframe tbody tr th {\n",
       "        vertical-align: top;\n",
       "    }\n",
       "\n",
       "    .dataframe thead th {\n",
       "        text-align: right;\n",
       "    }\n",
       "</style>\n",
       "<table border=\"1\" class=\"dataframe\">\n",
       "  <thead>\n",
       "    <tr style=\"text-align: right;\">\n",
       "      <th></th>\n",
       "      <th>Position</th>\n",
       "      <th>Team</th>\n",
       "      <th>Cl</th>\n",
       "      <th>Rating</th>\n",
       "    </tr>\n",
       "    <tr>\n",
       "      <th>Name</th>\n",
       "      <th></th>\n",
       "      <th></th>\n",
       "      <th></th>\n",
       "      <th></th>\n",
       "    </tr>\n",
       "  </thead>\n",
       "  <tbody>\n",
       "    <tr>\n",
       "      <th>Damone Clark</th>\n",
       "      <td>LB</td>\n",
       "      <td>LSU</td>\n",
       "      <td>Sr.</td>\n",
       "      <td>30.91</td>\n",
       "    </tr>\n",
       "    <tr>\n",
       "      <th>Jeremy Banks</th>\n",
       "      <td>LB</td>\n",
       "      <td>Tennessee</td>\n",
       "      <td>Jr.</td>\n",
       "      <td>29.37</td>\n",
       "    </tr>\n",
       "    <tr>\n",
       "      <th>Bumper Pool</th>\n",
       "      <td>LB</td>\n",
       "      <td>Arkansas</td>\n",
       "      <td>Sr.</td>\n",
       "      <td>27.50</td>\n",
       "    </tr>\n",
       "    <tr>\n",
       "      <th>Chance Campbell</th>\n",
       "      <td>LB</td>\n",
       "      <td>Ole Miss</td>\n",
       "      <td>Sr.</td>\n",
       "      <td>26.62</td>\n",
       "    </tr>\n",
       "    <tr>\n",
       "      <th>Will Anderson Jr.</th>\n",
       "      <td>LB</td>\n",
       "      <td>Alabama</td>\n",
       "      <td>So.</td>\n",
       "      <td>26.29</td>\n",
       "    </tr>\n",
       "    <tr>\n",
       "      <th>Jack Campbell</th>\n",
       "      <td>LB</td>\n",
       "      <td>Iowa</td>\n",
       "      <td>Jr.</td>\n",
       "      <td>24.31</td>\n",
       "    </tr>\n",
       "    <tr>\n",
       "      <th>Chris Bergin</th>\n",
       "      <td>LB</td>\n",
       "      <td>Northwestern</td>\n",
       "      <td>Sr.</td>\n",
       "      <td>23.97</td>\n",
       "    </tr>\n",
       "    <tr>\n",
       "      <th>Leo Chenal</th>\n",
       "      <td>LB</td>\n",
       "      <td>Wisconsin</td>\n",
       "      <td>Jr.</td>\n",
       "      <td>20.74</td>\n",
       "    </tr>\n",
       "    <tr>\n",
       "      <th>Chandler Wooten</th>\n",
       "      <td>LB</td>\n",
       "      <td>Auburn</td>\n",
       "      <td>Sr.</td>\n",
       "      <td>20.68</td>\n",
       "    </tr>\n",
       "    <tr>\n",
       "      <th>Mark Robinson</th>\n",
       "      <td>LB</td>\n",
       "      <td>Ole Miss</td>\n",
       "      <td>Sr.</td>\n",
       "      <td>19.80</td>\n",
       "    </tr>\n",
       "  </tbody>\n",
       "</table>\n",
       "</div>"
      ],
      "text/plain": [
       "                  Position          Team   Cl  Rating\n",
       "Name                                                 \n",
       "Damone Clark            LB           LSU  Sr.   30.91\n",
       "Jeremy Banks            LB     Tennessee  Jr.   29.37\n",
       "Bumper Pool             LB      Arkansas  Sr.   27.50\n",
       "Chance Campbell         LB      Ole Miss  Sr.   26.62\n",
       "Will Anderson Jr.       LB       Alabama  So.   26.29\n",
       "Jack Campbell           LB          Iowa  Jr.   24.31\n",
       "Chris Bergin            LB  Northwestern  Sr.   23.97\n",
       "Leo Chenal              LB     Wisconsin  Jr.   20.74\n",
       "Chandler Wooten         LB        Auburn  Sr.   20.68\n",
       "Mark Robinson           LB      Ole Miss  Sr.   19.80"
      ]
     },
     "execution_count": 131,
     "metadata": {},
     "output_type": "execute_result"
    }
   ],
   "source": [
    "final[final['Position'] == 'LB'][['Position', 'Team', 'Cl', 'Rating' ]].head(10)"
   ]
  },
  {
   "cell_type": "code",
   "execution_count": 123,
   "id": "3aa9c20c",
   "metadata": {},
   "outputs": [],
   "source": [
    "final.to_excel('21PlayerRanking.xlsx', sheet_name = '2021', index=False)"
   ]
  },
  {
   "cell_type": "code",
   "execution_count": 126,
   "id": "36d76c8f",
   "metadata": {},
   "outputs": [
    {
     "data": {
      "text/plain": [
       "array(['LB', 'DB', 'S', 'DL', 'DE', 'DT', 'CB'], dtype=object)"
      ]
     },
     "execution_count": 126,
     "metadata": {},
     "output_type": "execute_result"
    }
   ],
   "source": [
    "final.Position.unique()"
   ]
  },
  {
   "cell_type": "code",
   "execution_count": null,
   "id": "7036bc68",
   "metadata": {},
   "outputs": [],
   "source": []
  }
 ],
 "metadata": {
  "kernelspec": {
   "display_name": "Python 3 (ipykernel)",
   "language": "python",
   "name": "python3"
  },
  "language_info": {
   "codemirror_mode": {
    "name": "ipython",
    "version": 3
   },
   "file_extension": ".py",
   "mimetype": "text/x-python",
   "name": "python",
   "nbconvert_exporter": "python",
   "pygments_lexer": "ipython3",
   "version": "3.9.7"
  }
 },
 "nbformat": 4,
 "nbformat_minor": 5
}
