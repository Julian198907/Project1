{
 "cells": [
  {
   "cell_type": "markdown",
   "id": "fb798fa0",
   "metadata": {},
   "source": [
    "# 2021 CFB Conference Aggregate"
   ]
  },
  {
   "cell_type": "code",
   "execution_count": 1,
   "id": "ffa1f6be",
   "metadata": {},
   "outputs": [],
   "source": [
    "import pandas as pd"
   ]
  },
  {
   "cell_type": "code",
   "execution_count": 5,
   "id": "3e19f601",
   "metadata": {},
   "outputs": [],
   "source": [
    "sunbelt = pd.read_excel('ConferenceSummary.xlsx')"
   ]
  },
  {
   "cell_type": "code",
   "execution_count": 7,
   "id": "eafdaf00",
   "metadata": {},
   "outputs": [],
   "source": [
    "ACC = pd.read_excel('ConferenceSummary1.xlsx')"
   ]
  },
  {
   "cell_type": "code",
   "execution_count": 11,
   "id": "01812d99",
   "metadata": {},
   "outputs": [],
   "source": [
    "allc = pd.read_excel('ConferenceSummary2.xlsx')"
   ]
  },
  {
   "cell_type": "code",
   "execution_count": 29,
   "id": "bc1428a0",
   "metadata": {},
   "outputs": [
    {
     "data": {
      "text/html": [
       "<div>\n",
       "<style scoped>\n",
       "    .dataframe tbody tr th:only-of-type {\n",
       "        vertical-align: middle;\n",
       "    }\n",
       "\n",
       "    .dataframe tbody tr th {\n",
       "        vertical-align: top;\n",
       "    }\n",
       "\n",
       "    .dataframe thead th {\n",
       "        text-align: right;\n",
       "    }\n",
       "</style>\n",
       "<table border=\"1\" class=\"dataframe\">\n",
       "  <thead>\n",
       "    <tr style=\"text-align: right;\">\n",
       "      <th></th>\n",
       "      <th>BASE</th>\n",
       "      <th>School</th>\n",
       "      <th>Interleague</th>\n",
       "      <th>SEC</th>\n",
       "      <th>ACC</th>\n",
       "      <th>Big 12</th>\n",
       "      <th>CUSA</th>\n",
       "      <th>Independent</th>\n",
       "      <th>MidAmerican</th>\n",
       "      <th>Pac-12</th>\n",
       "      <th>AA</th>\n",
       "      <th>Other</th>\n",
       "      <th>Sun Belt</th>\n",
       "    </tr>\n",
       "  </thead>\n",
       "  <tbody>\n",
       "    <tr>\n",
       "      <th>0</th>\n",
       "      <td>SUNBELT</td>\n",
       "      <td>Appalachian State</td>\n",
       "      <td>156</td>\n",
       "      <td>0</td>\n",
       "      <td>-1</td>\n",
       "      <td>0</td>\n",
       "      <td>-19</td>\n",
       "      <td>0</td>\n",
       "      <td>0</td>\n",
       "      <td>0</td>\n",
       "      <td>15</td>\n",
       "      <td>35</td>\n",
       "      <td>156</td>\n",
       "    </tr>\n",
       "    <tr>\n",
       "      <th>1</th>\n",
       "      <td>SUNBELT</td>\n",
       "      <td>Arkansas State</td>\n",
       "      <td>-114</td>\n",
       "      <td>0</td>\n",
       "      <td>0</td>\n",
       "      <td>0</td>\n",
       "      <td>0</td>\n",
       "      <td>0</td>\n",
       "      <td>0</td>\n",
       "      <td>-48</td>\n",
       "      <td>-11</td>\n",
       "      <td>20</td>\n",
       "      <td>-114</td>\n",
       "    </tr>\n",
       "    <tr>\n",
       "      <th>2</th>\n",
       "      <td>SUNBELT</td>\n",
       "      <td>Coastal Carolina</td>\n",
       "      <td>134</td>\n",
       "      <td>0</td>\n",
       "      <td>0</td>\n",
       "      <td>28</td>\n",
       "      <td>0</td>\n",
       "      <td>51</td>\n",
       "      <td>11</td>\n",
       "      <td>0</td>\n",
       "      <td>0</td>\n",
       "      <td>39</td>\n",
       "      <td>134</td>\n",
       "    </tr>\n",
       "    <tr>\n",
       "      <th>3</th>\n",
       "      <td>SUNBELT</td>\n",
       "      <td>Georgia Southern</td>\n",
       "      <td>-50</td>\n",
       "      <td>-34</td>\n",
       "      <td>0</td>\n",
       "      <td>0</td>\n",
       "      <td>-31</td>\n",
       "      <td>-17</td>\n",
       "      <td>0</td>\n",
       "      <td>0</td>\n",
       "      <td>0</td>\n",
       "      <td>6</td>\n",
       "      <td>-50</td>\n",
       "    </tr>\n",
       "    <tr>\n",
       "      <th>4</th>\n",
       "      <td>SUNBELT</td>\n",
       "      <td>Georgia State</td>\n",
       "      <td>64</td>\n",
       "      <td>-9</td>\n",
       "      <td>-41</td>\n",
       "      <td>0</td>\n",
       "      <td>12</td>\n",
       "      <td>-33</td>\n",
       "      <td>32</td>\n",
       "      <td>0</td>\n",
       "      <td>0</td>\n",
       "      <td>0</td>\n",
       "      <td>64</td>\n",
       "    </tr>\n",
       "  </tbody>\n",
       "</table>\n",
       "</div>"
      ],
      "text/plain": [
       "      BASE             School  Interleague  SEC  ACC  Big 12  CUSA  \\\n",
       "0  SUNBELT  Appalachian State          156    0   -1       0   -19   \n",
       "1  SUNBELT     Arkansas State         -114    0    0       0     0   \n",
       "2  SUNBELT   Coastal Carolina          134    0    0      28     0   \n",
       "3  SUNBELT   Georgia Southern          -50  -34    0       0   -31   \n",
       "4  SUNBELT      Georgia State           64   -9  -41       0    12   \n",
       "\n",
       "   Independent  MidAmerican  Pac-12  AA  Other  Sun Belt  \n",
       "0            0            0       0  15     35       156  \n",
       "1            0            0     -48 -11     20      -114  \n",
       "2           51           11       0   0     39       134  \n",
       "3          -17            0       0   0      6       -50  \n",
       "4          -33           32       0   0      0        64  "
      ]
     },
     "execution_count": 29,
     "metadata": {},
     "output_type": "execute_result"
    }
   ],
   "source": [
    "sunbelt.head()"
   ]
  },
  {
   "cell_type": "code",
   "execution_count": 23,
   "id": "54473a11",
   "metadata": {},
   "outputs": [],
   "source": [
    "sunbelt['Sun Belt'] = sunbelt['Interleague']"
   ]
  },
  {
   "cell_type": "code",
   "execution_count": 42,
   "id": "a309f7fc",
   "metadata": {},
   "outputs": [
    {
     "name": "stderr",
     "output_type": "stream",
     "text": [
      "C:\\Users\\vmidh\\AppData\\Local\\Temp/ipykernel_20292/19385009.py:1: FutureWarning: Indexing with multiple keys (implicitly converted to a tuple of keys) will be deprecated, use a list instead.\n",
      "  clean1 = sunbelt.groupby(['BASE', 'School'])['Interleague','SEC','ACC','Big 12','CUSA','Independent','MidAmerican','Pac-12','AA','Other', 'Sun Belt'].sum()\n"
     ]
    }
   ],
   "source": [
    "clean1 = sunbelt.groupby(['BASE', 'School'])['Interleague','SEC','ACC','Big 12','CUSA','Independent','MidAmerican','Pac-12','AA','Other', 'Sun Belt'].sum()\n",
    "#list(sunbelt.columns)"
   ]
  },
  {
   "cell_type": "code",
   "execution_count": 45,
   "id": "18561f79",
   "metadata": {},
   "outputs": [
    {
     "data": {
      "text/html": [
       "<div>\n",
       "<style scoped>\n",
       "    .dataframe tbody tr th:only-of-type {\n",
       "        vertical-align: middle;\n",
       "    }\n",
       "\n",
       "    .dataframe tbody tr th {\n",
       "        vertical-align: top;\n",
       "    }\n",
       "\n",
       "    .dataframe thead th {\n",
       "        text-align: right;\n",
       "    }\n",
       "</style>\n",
       "<table border=\"1\" class=\"dataframe\">\n",
       "  <thead>\n",
       "    <tr style=\"text-align: right;\">\n",
       "      <th></th>\n",
       "      <th>BASE</th>\n",
       "      <th>School</th>\n",
       "      <th>Interleague</th>\n",
       "      <th>SEC</th>\n",
       "      <th>ACC</th>\n",
       "      <th>Big 12</th>\n",
       "      <th>CUSA</th>\n",
       "      <th>Independent</th>\n",
       "      <th>MidAmerican</th>\n",
       "      <th>Pac-12</th>\n",
       "      <th>AA</th>\n",
       "      <th>Other</th>\n",
       "      <th>Sun Belt</th>\n",
       "    </tr>\n",
       "  </thead>\n",
       "  <tbody>\n",
       "    <tr>\n",
       "      <th>0</th>\n",
       "      <td>SUNBELT</td>\n",
       "      <td>Appalachian State</td>\n",
       "      <td>156</td>\n",
       "      <td>0</td>\n",
       "      <td>-1</td>\n",
       "      <td>0</td>\n",
       "      <td>-19</td>\n",
       "      <td>0</td>\n",
       "      <td>0</td>\n",
       "      <td>0</td>\n",
       "      <td>15</td>\n",
       "      <td>35</td>\n",
       "      <td>156</td>\n",
       "    </tr>\n",
       "    <tr>\n",
       "      <th>1</th>\n",
       "      <td>SUNBELT</td>\n",
       "      <td>Arkansas State</td>\n",
       "      <td>-114</td>\n",
       "      <td>0</td>\n",
       "      <td>0</td>\n",
       "      <td>0</td>\n",
       "      <td>0</td>\n",
       "      <td>0</td>\n",
       "      <td>0</td>\n",
       "      <td>-48</td>\n",
       "      <td>-11</td>\n",
       "      <td>20</td>\n",
       "      <td>-114</td>\n",
       "    </tr>\n",
       "    <tr>\n",
       "      <th>2</th>\n",
       "      <td>SUNBELT</td>\n",
       "      <td>Coastal Carolina</td>\n",
       "      <td>134</td>\n",
       "      <td>0</td>\n",
       "      <td>0</td>\n",
       "      <td>28</td>\n",
       "      <td>0</td>\n",
       "      <td>51</td>\n",
       "      <td>11</td>\n",
       "      <td>0</td>\n",
       "      <td>0</td>\n",
       "      <td>39</td>\n",
       "      <td>134</td>\n",
       "    </tr>\n",
       "    <tr>\n",
       "      <th>3</th>\n",
       "      <td>SUNBELT</td>\n",
       "      <td>Georgia Southern</td>\n",
       "      <td>-50</td>\n",
       "      <td>-34</td>\n",
       "      <td>0</td>\n",
       "      <td>0</td>\n",
       "      <td>-31</td>\n",
       "      <td>-17</td>\n",
       "      <td>0</td>\n",
       "      <td>0</td>\n",
       "      <td>0</td>\n",
       "      <td>6</td>\n",
       "      <td>-50</td>\n",
       "    </tr>\n",
       "    <tr>\n",
       "      <th>4</th>\n",
       "      <td>SUNBELT</td>\n",
       "      <td>Georgia State</td>\n",
       "      <td>64</td>\n",
       "      <td>-9</td>\n",
       "      <td>-41</td>\n",
       "      <td>0</td>\n",
       "      <td>12</td>\n",
       "      <td>-33</td>\n",
       "      <td>32</td>\n",
       "      <td>0</td>\n",
       "      <td>0</td>\n",
       "      <td>0</td>\n",
       "      <td>64</td>\n",
       "    </tr>\n",
       "  </tbody>\n",
       "</table>\n",
       "</div>"
      ],
      "text/plain": [
       "      BASE             School  Interleague  SEC  ACC  Big 12  CUSA  \\\n",
       "0  SUNBELT  Appalachian State          156    0   -1       0   -19   \n",
       "1  SUNBELT     Arkansas State         -114    0    0       0     0   \n",
       "2  SUNBELT   Coastal Carolina          134    0    0      28     0   \n",
       "3  SUNBELT   Georgia Southern          -50  -34    0       0   -31   \n",
       "4  SUNBELT      Georgia State           64   -9  -41       0    12   \n",
       "\n",
       "   Independent  MidAmerican  Pac-12  AA  Other  Sun Belt  \n",
       "0            0            0       0  15     35       156  \n",
       "1            0            0     -48 -11     20      -114  \n",
       "2           51           11       0   0     39       134  \n",
       "3          -17            0       0   0      6       -50  \n",
       "4          -33           32       0   0      0        64  "
      ]
     },
     "execution_count": 45,
     "metadata": {},
     "output_type": "execute_result"
    }
   ],
   "source": [
    "#clean1.reset_index(inplace=True)\n",
    "clean1.head()"
   ]
  },
  {
   "cell_type": "code",
   "execution_count": 39,
   "id": "43453f2d",
   "metadata": {},
   "outputs": [
    {
     "data": {
      "text/plain": [
       "['School',\n",
       " 'Conf',\n",
       " 'weight',\n",
       " 'Interleague',\n",
       " 'ACC',\n",
       " 'SEC',\n",
       " 'Sun Belt',\n",
       " 'AA',\n",
       " 'Big 12',\n",
       " 'CUSA',\n",
       " 'Independent',\n",
       " 'MidAmerican',\n",
       " 'Pac-12',\n",
       " 'Other',\n",
       " 'MountainWest',\n",
       " 'Big10',\n",
       " 'BASE']"
      ]
     },
     "execution_count": 39,
     "metadata": {},
     "output_type": "execute_result"
    }
   ],
   "source": [
    "ACC.head()\n",
    "list(ACC.columns)"
   ]
  },
  {
   "cell_type": "code",
   "execution_count": 47,
   "id": "f0e5326a",
   "metadata": {},
   "outputs": [],
   "source": [
    "clean2 = ACC.groupby(['BASE','School'])[['Interleague',\n",
    " 'SEC',\n",
    " 'Sun Belt',\n",
    " 'AA',\n",
    " 'Big 12',\n",
    " 'CUSA',\n",
    " 'Independent',\n",
    " 'MidAmerican',\n",
    " 'Pac-12',\n",
    " 'MountainWest',\n",
    " 'Big10',\n",
    " 'Other', 'ACC']].sum()"
   ]
  },
  {
   "cell_type": "code",
   "execution_count": 52,
   "id": "5872fac9",
   "metadata": {},
   "outputs": [],
   "source": [
    "clean2.reset_index(inplace=True)"
   ]
  },
  {
   "cell_type": "code",
   "execution_count": 56,
   "id": "03c62a7a",
   "metadata": {},
   "outputs": [
    {
     "data": {
      "text/plain": [
       "array(['ACC', 'American', 'Ind', 'Non-Major', 'SEC', 'Big 12', 'Big Ten',\n",
       "       'CUSA', 'MAC', 'MWC', 'Sun Belt'], dtype=object)"
      ]
     },
     "execution_count": 56,
     "metadata": {},
     "output_type": "execute_result"
    }
   ],
   "source": [
    "ACC.Conf.unique()"
   ]
  },
  {
   "cell_type": "code",
   "execution_count": 61,
   "id": "fc01f22d",
   "metadata": {},
   "outputs": [
    {
     "data": {
      "text/plain": [
       "['School',\n",
       " 'Conf',\n",
       " 'weight',\n",
       " 'BASE',\n",
       " 'Interleague',\n",
       " 'SEC',\n",
       " 'ACC',\n",
       " 'Big 12',\n",
       " 'CUSA',\n",
       " 'Independent',\n",
       " 'MidAmerican',\n",
       " 'Pac-12',\n",
       " 'Sun Belt',\n",
       " 'Big10',\n",
       " 'MountainWest',\n",
       " 'Other',\n",
       " 'AA']"
      ]
     },
     "execution_count": 61,
     "metadata": {},
     "output_type": "execute_result"
    }
   ],
   "source": [
    "list(allc.columns)"
   ]
  },
  {
   "cell_type": "code",
   "execution_count": 63,
   "id": "5d9e981b",
   "metadata": {},
   "outputs": [],
   "source": [
    "clean3 = allc.groupby(['BASE','School'])[['Interleague',\n",
    " 'SEC',\n",
    " 'ACC',\n",
    " 'Big 12',\n",
    " 'CUSA',\n",
    " 'Independent',\n",
    " 'MidAmerican',\n",
    " 'Pac-12',\n",
    " 'Sun Belt',\n",
    " 'Big10',\n",
    " 'MountainWest',\n",
    " 'AA','Other',]].sum()"
   ]
  },
  {
   "cell_type": "code",
   "execution_count": 65,
   "id": "e0796f86",
   "metadata": {},
   "outputs": [],
   "source": [
    "clean3.reset_index(inplace=True)"
   ]
  },
  {
   "cell_type": "code",
   "execution_count": 66,
   "id": "6f712cec",
   "metadata": {},
   "outputs": [],
   "source": [
    "masterdata = pd.concat([clean3, clean2, clean1])"
   ]
  },
  {
   "cell_type": "code",
   "execution_count": 69,
   "id": "95f53644",
   "metadata": {},
   "outputs": [],
   "source": [
    "masterdata.to_excel('Masterdata.xlsx', sheet_name='sheet1', index=False)"
   ]
  },
  {
   "cell_type": "code",
   "execution_count": 162,
   "id": "1668c0aa",
   "metadata": {},
   "outputs": [
    {
     "data": {
      "text/html": [
       "<div>\n",
       "<style scoped>\n",
       "    .dataframe tbody tr th:only-of-type {\n",
       "        vertical-align: middle;\n",
       "    }\n",
       "\n",
       "    .dataframe tbody tr th {\n",
       "        vertical-align: top;\n",
       "    }\n",
       "\n",
       "    .dataframe thead th {\n",
       "        text-align: right;\n",
       "    }\n",
       "</style>\n",
       "<table border=\"1\" class=\"dataframe\">\n",
       "  <thead>\n",
       "    <tr style=\"text-align: right;\">\n",
       "      <th></th>\n",
       "      <th>BASE</th>\n",
       "      <th>School</th>\n",
       "      <th>Interleague</th>\n",
       "      <th>SEC</th>\n",
       "      <th>ACC</th>\n",
       "      <th>Big 12</th>\n",
       "      <th>CUSA</th>\n",
       "      <th>Independent</th>\n",
       "      <th>MidAmerican</th>\n",
       "      <th>Pac-12</th>\n",
       "      <th>Sun Belt</th>\n",
       "      <th>Big10</th>\n",
       "      <th>MountainWest</th>\n",
       "      <th>AA</th>\n",
       "      <th>Other</th>\n",
       "    </tr>\n",
       "  </thead>\n",
       "  <tbody>\n",
       "    <tr>\n",
       "      <th>0</th>\n",
       "      <td>American</td>\n",
       "      <td>Cincinnati</td>\n",
       "      <td>215</td>\n",
       "      <td>-21</td>\n",
       "      <td>0</td>\n",
       "      <td>0</td>\n",
       "      <td>0</td>\n",
       "      <td>12</td>\n",
       "      <td>36</td>\n",
       "      <td>0</td>\n",
       "      <td>0</td>\n",
       "      <td>15.0</td>\n",
       "      <td>0.0</td>\n",
       "      <td>215</td>\n",
       "      <td>36</td>\n",
       "    </tr>\n",
       "    <tr>\n",
       "      <th>1</th>\n",
       "      <td>American</td>\n",
       "      <td>EastCarolina</td>\n",
       "      <td>58</td>\n",
       "      <td>-3</td>\n",
       "      <td>0</td>\n",
       "      <td>0</td>\n",
       "      <td>5</td>\n",
       "      <td>0</td>\n",
       "      <td>0</td>\n",
       "      <td>0</td>\n",
       "      <td>-14</td>\n",
       "      <td>0.0</td>\n",
       "      <td>0.0</td>\n",
       "      <td>58</td>\n",
       "      <td>4</td>\n",
       "    </tr>\n",
       "    <tr>\n",
       "      <th>2</th>\n",
       "      <td>American</td>\n",
       "      <td>Houston</td>\n",
       "      <td>128</td>\n",
       "      <td>5</td>\n",
       "      <td>0</td>\n",
       "      <td>-17</td>\n",
       "      <td>38</td>\n",
       "      <td>29</td>\n",
       "      <td>0</td>\n",
       "      <td>0</td>\n",
       "      <td>0</td>\n",
       "      <td>0.0</td>\n",
       "      <td>0.0</td>\n",
       "      <td>128</td>\n",
       "      <td>46</td>\n",
       "    </tr>\n",
       "    <tr>\n",
       "      <th>3</th>\n",
       "      <td>American</td>\n",
       "      <td>Memphis</td>\n",
       "      <td>-12</td>\n",
       "      <td>3</td>\n",
       "      <td>0</td>\n",
       "      <td>0</td>\n",
       "      <td>-3</td>\n",
       "      <td>0</td>\n",
       "      <td>0</td>\n",
       "      <td>0</td>\n",
       "      <td>6</td>\n",
       "      <td>0.0</td>\n",
       "      <td>0.0</td>\n",
       "      <td>-12</td>\n",
       "      <td>26</td>\n",
       "    </tr>\n",
       "    <tr>\n",
       "      <th>4</th>\n",
       "      <td>American</td>\n",
       "      <td>Navy</td>\n",
       "      <td>-7</td>\n",
       "      <td>0</td>\n",
       "      <td>0</td>\n",
       "      <td>0</td>\n",
       "      <td>-42</td>\n",
       "      <td>-22</td>\n",
       "      <td>0</td>\n",
       "      <td>0</td>\n",
       "      <td>0</td>\n",
       "      <td>0.0</td>\n",
       "      <td>-20.0</td>\n",
       "      <td>-7</td>\n",
       "      <td>0</td>\n",
       "    </tr>\n",
       "  </tbody>\n",
       "</table>\n",
       "</div>"
      ],
      "text/plain": [
       "       BASE        School  Interleague  SEC  ACC  Big 12  CUSA  Independent  \\\n",
       "0  American    Cincinnati          215  -21    0       0     0           12   \n",
       "1  American  EastCarolina           58   -3    0       0     5            0   \n",
       "2  American       Houston          128    5    0     -17    38           29   \n",
       "3  American       Memphis          -12    3    0       0    -3            0   \n",
       "4  American          Navy           -7    0    0       0   -42          -22   \n",
       "\n",
       "   MidAmerican  Pac-12  Sun Belt  Big10  MountainWest   AA  Other  \n",
       "0           36       0         0   15.0           0.0  215     36  \n",
       "1            0       0       -14    0.0           0.0   58      4  \n",
       "2            0       0         0    0.0           0.0  128     46  \n",
       "3            0       0         6    0.0           0.0  -12     26  \n",
       "4            0       0         0    0.0         -20.0   -7      0  "
      ]
     },
     "execution_count": 162,
     "metadata": {},
     "output_type": "execute_result"
    }
   ],
   "source": [
    "#masterdata.fillna(0, inplace=True)\n",
    "masterdata.head()"
   ]
  },
  {
   "cell_type": "markdown",
   "id": "3818e02e",
   "metadata": {},
   "source": [
    "##### useful notes for analysing data"
   ]
  },
  {
   "cell_type": "code",
   "execution_count": 160,
   "id": "e69da20f",
   "metadata": {},
   "outputs": [],
   "source": [
    "#masterdata[(masterdata['SEC'] > 0) & (masterdata.BASE != \"SEC\")][['School', 'BASE', 'SEC']].sort_values(by = ['SEC'], ascending=False)\n",
    "#ccol = masterdata.loc[:,['SEC', 'ACC', 'Big 12', 'CUSA', 'Independent', 'MidAmerican', 'Pac-12', 'Sun Belt', 'Big10', 'MountainWest', 'AA', 'Other']]\n",
    "#masterdata[(masterdata.SEC > 0) & (masterdata.ACC > 0) & (masterdata['Big 12'] > 0) & (masterdata.CUSA > 0) & (masterdata.Independent > 0) & (masterdata.MidAmerican > 0) & (masterdata['Pac-12'] > 0) & (masterdata['Sun Belt'] > 0) & (masterdata.Big10 > 0) & (masterdata.MountainWest > 0) & (masterdata.AA > 0) & (masterdata.Other > 0)]\n",
    "#masterdata[masterdata.BASE == 'SEC'] important to nest condition inside DF to get all columns\n",
    "#when using groupby single [] creates series, double brackets [[]] creates a DF\n",
    "#ranked.query(' & ')"
   ]
  },
  {
   "cell_type": "markdown",
   "id": "d156dafa",
   "metadata": {},
   "source": [
    "#### end of notes"
   ]
  },
  {
   "cell_type": "code",
   "execution_count": 296,
   "id": "41079a3e",
   "metadata": {},
   "outputs": [],
   "source": [
    "masterdata['Points'] = (masterdata['SEC'] * .22) + (masterdata['ACC'] * .11) + (masterdata['Big 12'] * .13) + (masterdata['CUSA'] * .02) + (masterdata['Independent'] * .03) + (masterdata['MidAmerican'] * .002) + (masterdata['Pac-12'] * .08) + (masterdata['Sun Belt'] * .06) + (masterdata['Big10'] * .17) + (masterdata['MountainWest'] * .11) + (masterdata['AA'] * .07)"
   ]
  },
  {
   "cell_type": "code",
   "execution_count": 297,
   "id": "b433db20",
   "metadata": {},
   "outputs": [
    {
     "data": {
      "text/html": [
       "<div>\n",
       "<style scoped>\n",
       "    .dataframe tbody tr th:only-of-type {\n",
       "        vertical-align: middle;\n",
       "    }\n",
       "\n",
       "    .dataframe tbody tr th {\n",
       "        vertical-align: top;\n",
       "    }\n",
       "\n",
       "    .dataframe thead th {\n",
       "        text-align: right;\n",
       "    }\n",
       "</style>\n",
       "<table border=\"1\" class=\"dataframe\">\n",
       "  <thead>\n",
       "    <tr style=\"text-align: right;\">\n",
       "      <th></th>\n",
       "      <th>Points</th>\n",
       "    </tr>\n",
       "    <tr>\n",
       "      <th>BASE</th>\n",
       "      <th></th>\n",
       "    </tr>\n",
       "  </thead>\n",
       "  <tbody>\n",
       "    <tr>\n",
       "      <th>SEC</th>\n",
       "      <td>58.182</td>\n",
       "    </tr>\n",
       "    <tr>\n",
       "      <th>Big 12</th>\n",
       "      <td>29.740</td>\n",
       "    </tr>\n",
       "    <tr>\n",
       "      <th>Big Ten</th>\n",
       "      <td>28.870</td>\n",
       "    </tr>\n",
       "    <tr>\n",
       "      <th>Pac-12</th>\n",
       "      <td>6.794</td>\n",
       "    </tr>\n",
       "    <tr>\n",
       "      <th>ACC</th>\n",
       "      <td>-5.006</td>\n",
       "    </tr>\n",
       "    <tr>\n",
       "      <th>MWC</th>\n",
       "      <td>-6.256</td>\n",
       "    </tr>\n",
       "    <tr>\n",
       "      <th>American</th>\n",
       "      <td>-27.404</td>\n",
       "    </tr>\n",
       "    <tr>\n",
       "      <th>SUNBELT</th>\n",
       "      <td>-34.188</td>\n",
       "    </tr>\n",
       "    <tr>\n",
       "      <th>Ind</th>\n",
       "      <td>-43.226</td>\n",
       "    </tr>\n",
       "    <tr>\n",
       "      <th>CUSA</th>\n",
       "      <td>-61.908</td>\n",
       "    </tr>\n",
       "    <tr>\n",
       "      <th>MAC</th>\n",
       "      <td>-88.904</td>\n",
       "    </tr>\n",
       "  </tbody>\n",
       "</table>\n",
       "</div>"
      ],
      "text/plain": [
       "          Points\n",
       "BASE            \n",
       "SEC       58.182\n",
       "Big 12    29.740\n",
       "Big Ten   28.870\n",
       "Pac-12     6.794\n",
       "ACC       -5.006\n",
       "MWC       -6.256\n",
       "American -27.404\n",
       "SUNBELT  -34.188\n",
       "Ind      -43.226\n",
       "CUSA     -61.908\n",
       "MAC      -88.904"
      ]
     },
     "execution_count": 297,
     "metadata": {},
     "output_type": "execute_result"
    }
   ],
   "source": [
    "w = masterdata.groupby(['BASE'])[['Points']].sum()\n",
    "#masterdata[masterdata.BASE == 'Big Ten']\n",
    "w.sort_values(by= ['Points'], ascending=False)"
   ]
  },
  {
   "cell_type": "code",
   "execution_count": 298,
   "id": "d31d92dd",
   "metadata": {},
   "outputs": [],
   "source": [
    "s = masterdata.sort_values(['Points'], ascending=False).rename(columns = {'BASE': 'BASE CONF'})"
   ]
  },
  {
   "cell_type": "code",
   "execution_count": 299,
   "id": "abb34588",
   "metadata": {},
   "outputs": [],
   "source": [
    "ar = list(s.columns)\n",
    "#ar.index('School')\n",
    "ar[0], ar[1] = ar[1], ar[0]\n",
    "ranked = s[ar]"
   ]
  },
  {
   "cell_type": "code",
   "execution_count": 291,
   "id": "dc473db0",
   "metadata": {},
   "outputs": [
    {
     "data": {
      "text/plain": [
       "array(['Ind', 'SEC', 'Big Ten', 'SUNBELT', 'ACC', 'American', 'MWC',\n",
       "       'Big 12', 'Pac-12', 'CUSA', 'MAC'], dtype=object)"
      ]
     },
     "execution_count": 291,
     "metadata": {},
     "output_type": "execute_result"
    }
   ],
   "source": [
    "ranked['BASE CONF'].unique()"
   ]
  },
  {
   "cell_type": "code",
   "execution_count": 228,
   "id": "a363e2ea",
   "metadata": {},
   "outputs": [
    {
     "data": {
      "text/plain": [
       "['School',\n",
       " 'BASE CONF',\n",
       " 'SEC',\n",
       " 'ACC',\n",
       " 'Big 12',\n",
       " 'CUSA',\n",
       " 'Independent',\n",
       " 'MidAmerican',\n",
       " 'Pac-12',\n",
       " 'Sun Belt',\n",
       " 'Big10',\n",
       " 'MountainWest',\n",
       " 'AA',\n",
       " 'Other',\n",
       " 'Points']"
      ]
     },
     "execution_count": 228,
     "metadata": {},
     "output_type": "execute_result"
    }
   ],
   "source": [
    "list(ranked.columns)"
   ]
  },
  {
   "cell_type": "code",
   "execution_count": 300,
   "id": "8f802e8b",
   "metadata": {},
   "outputs": [],
   "source": [
    "ranked.rename(columns={'Independent':'Ind', 'MidAmerican':'MAC', 'Sun Belt':'SUNBELT', 'Big10':'Big Ten', 'MountainWest':'MWC', 'AA':'American'}, inplace=True)"
   ]
  },
  {
   "cell_type": "code",
   "execution_count": 305,
   "id": "dd49bd24",
   "metadata": {},
   "outputs": [],
   "source": [
    "ranked['Points'] = round(ranked.Points)"
   ]
  },
  {
   "cell_type": "code",
   "execution_count": 309,
   "id": "0ebf15c4",
   "metadata": {},
   "outputs": [],
   "source": [
    "final = ranked.drop(columns=['Interleague'])"
   ]
  },
  {
   "cell_type": "code",
   "execution_count": 323,
   "id": "bc586495",
   "metadata": {},
   "outputs": [],
   "source": [
    "ConferenceSummary = final.groupby(['BASE CONF'])[['Points']].sum().sort_values(by = ['Points'], ascending=False)"
   ]
  },
  {
   "cell_type": "code",
   "execution_count": 325,
   "id": "9fa93a1a",
   "metadata": {},
   "outputs": [],
   "source": [
    "final.to_excel('FinalRanking.xlsx', sheet_name = 'My2021Ranking', index=False)"
   ]
  },
  {
   "cell_type": "code",
   "execution_count": 341,
   "id": "8886ef94",
   "metadata": {},
   "outputs": [],
   "source": [
    "pm = {\n",
    "    'Conference' : ['SEC', 'Big Ten', 'Big 12', 'ACC', 'MWC', 'Pac-12', 'American', 'SUNBELT', 'Ind', 'CUSA', 'MAC'],\n",
    "    'Ratio' : [.22, .17, .13, .11, .11, .08, .07, .06, .03, .02, .002]}"
   ]
  },
  {
   "cell_type": "code",
   "execution_count": 347,
   "id": "2ae1db03",
   "metadata": {},
   "outputs": [],
   "source": [
    "pm = pd.DataFrame(pm)"
   ]
  },
  {
   "cell_type": "code",
   "execution_count": 348,
   "id": "641cf895",
   "metadata": {},
   "outputs": [],
   "source": [
    "pm.to_excel('PlayerWeight.xlsx', sheet_name = 'Sheet 1', index=False)"
   ]
  },
  {
   "cell_type": "code",
   "execution_count": null,
   "id": "d0d66fdc",
   "metadata": {},
   "outputs": [],
   "source": []
  }
 ],
 "metadata": {
  "kernelspec": {
   "display_name": "Python 3 (ipykernel)",
   "language": "python",
   "name": "python3"
  },
  "language_info": {
   "codemirror_mode": {
    "name": "ipython",
    "version": 3
   },
   "file_extension": ".py",
   "mimetype": "text/x-python",
   "name": "python",
   "nbconvert_exporter": "python",
   "pygments_lexer": "ipython3",
   "version": "3.9.7"
  }
 },
 "nbformat": 4,
 "nbformat_minor": 5
}
